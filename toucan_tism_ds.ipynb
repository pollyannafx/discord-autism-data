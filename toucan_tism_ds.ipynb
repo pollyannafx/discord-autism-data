{
 "cells": [
  {
   "cell_type": "markdown",
   "id": "3f05b00c-cfdf-48d6-9afe-5770de79fb31",
   "metadata": {},
   "source": [
    "# Doing some interesting things with Toucan's autism data"
   ]
  },
  {
   "cell_type": "markdown",
   "id": "7d79ddb1-a446-4986-8a14-362dd75137ba",
   "metadata": {},
   "source": [
    "As our Discord server's resident aspirant data scientist, I got curious about what I could do with the random data one of our users collected about our scores on the RAADS-R. "
   ]
  },
  {
   "cell_type": "code",
   "execution_count": 1,
   "id": "28fe3282-d1e2-4bfb-90ef-9c252f10ce6c",
   "metadata": {},
   "outputs": [
    {
     "name": "stderr",
     "output_type": "stream",
     "text": [
      "/usr/lib/python3/dist-packages/pytz/__init__.py:31: SyntaxWarning: invalid escape sequence '\\s'\n",
      "  match = re.match(\"^#\\s*version\\s*([0-9a-z]*)\\s*$\", line)\n"
     ]
    }
   ],
   "source": [
    "import pandas as pd\n",
    "import numpy as np \n",
    "import matplotlib.pyplot as plt\n",
    "import seaborn as sns\n",
    "import urllib.request"
   ]
  },
  {
   "cell_type": "markdown",
   "id": "0a079d1e-e1c2-4218-b237-d41d45045539",
   "metadata": {},
   "source": [
    "#### step 1: turning our data into a dataframe\n",
    "toucan had the data as a raw text file so i'm just gonna...make it more palatable for the computer. "
   ]
  },
  {
   "cell_type": "code",
   "execution_count": 2,
   "id": "82390f9d-8f6d-46b7-b325-97ee9e88912f",
   "metadata": {},
   "outputs": [],
   "source": [
    "# importing data\n",
    "url = \"https://raw.githubusercontent.com/pollyannafx/discord-autism-data/refs/heads/main/toucan-tism-data.txt\"\n",
    "with urllib.request.urlopen(url) as f: \n",
    "    tism_data = f.read().decode(\"utf-8\").splitlines()"
   ]
  },
  {
   "cell_type": "code",
   "execution_count": 3,
   "id": "4df57fc1-1cba-4b8b-b308-7e1e3668e6a4",
   "metadata": {},
   "outputs": [
    {
     "data": {
      "text/plain": [
       "['toucan:141', 'marie:154', 'spike:31', 'Graywolf:76', 'Palepiney:91']"
      ]
     },
     "execution_count": 3,
     "metadata": {},
     "output_type": "execute_result"
    }
   ],
   "source": [
    "tism_data[0:5] # for debugging's sake"
   ]
  },
  {
   "cell_type": "code",
   "execution_count": 4,
   "id": "47322e46-0905-45a4-921d-03a0a0c89493",
   "metadata": {},
   "outputs": [
    {
     "data": {
      "text/plain": [
       "[['toucan', '141'],\n",
       " ['marie', '154'],\n",
       " ['spike', '31'],\n",
       " ['Graywolf', '76'],\n",
       " ['Palepiney', '91']]"
      ]
     },
     "execution_count": 4,
     "metadata": {},
     "output_type": "execute_result"
    }
   ],
   "source": [
    "# resource: https://www.geeksforgeeks.org/split-elements-of-a-list-in-python/\n",
    "tism_data_split = [item.split(\":\") for item in tism_data]\n",
    "tism_data_split[0:5] # for debugging's sake "
   ]
  },
  {
   "cell_type": "code",
   "execution_count": 5,
   "id": "7e9447c9-d26e-4c05-b93f-e296ef575fdb",
   "metadata": {},
   "outputs": [],
   "source": [
    "# resource: https://www.geeksforgeeks.org/python-convert-a-list-to-dictionary/\n",
    "# resource: https://www.w3schools.com/python/numpy/numpy_array_iterating.asp\n",
    "# resource: https://www.geeksforgeeks.org/how-to-initialize-a-dictionary-in-python-using-for-loop/\n",
    "tism_data_dictionary = {i[0]: i[1] for i in tism_data_split}\n",
    "# tism_data_dictionary # <- was for troubleshooting"
   ]
  },
  {
   "cell_type": "code",
   "execution_count": 6,
   "id": "d7ec673e-ce87-4093-869b-b39de7ecfb25",
   "metadata": {},
   "outputs": [
    {
     "data": {
      "text/html": [
       "<div>\n",
       "<style scoped>\n",
       "    .dataframe tbody tr th:only-of-type {\n",
       "        vertical-align: middle;\n",
       "    }\n",
       "\n",
       "    .dataframe tbody tr th {\n",
       "        vertical-align: top;\n",
       "    }\n",
       "\n",
       "    .dataframe thead th {\n",
       "        text-align: right;\n",
       "    }\n",
       "</style>\n",
       "<table border=\"1\" class=\"dataframe\">\n",
       "  <thead>\n",
       "    <tr style=\"text-align: right;\">\n",
       "      <th></th>\n",
       "      <th>User</th>\n",
       "      <th>RAADS_score</th>\n",
       "    </tr>\n",
       "  </thead>\n",
       "  <tbody>\n",
       "    <tr>\n",
       "      <th>0</th>\n",
       "      <td>toucan</td>\n",
       "      <td>141</td>\n",
       "    </tr>\n",
       "    <tr>\n",
       "      <th>1</th>\n",
       "      <td>marie</td>\n",
       "      <td>154</td>\n",
       "    </tr>\n",
       "    <tr>\n",
       "      <th>2</th>\n",
       "      <td>spike</td>\n",
       "      <td>31</td>\n",
       "    </tr>\n",
       "    <tr>\n",
       "      <th>3</th>\n",
       "      <td>Graywolf</td>\n",
       "      <td>76</td>\n",
       "    </tr>\n",
       "    <tr>\n",
       "      <th>4</th>\n",
       "      <td>Palepiney</td>\n",
       "      <td>91</td>\n",
       "    </tr>\n",
       "  </tbody>\n",
       "</table>\n",
       "</div>"
      ],
      "text/plain": [
       "        User RAADS_score\n",
       "0     toucan         141\n",
       "1      marie         154\n",
       "2      spike          31\n",
       "3   Graywolf          76\n",
       "4  Palepiney          91"
      ]
     },
     "execution_count": 6,
     "metadata": {},
     "output_type": "execute_result"
    }
   ],
   "source": [
    "# resource: http://localhost:8888/lab/tree/personal_shit/Untitled.ipynb\n",
    "tism_df = pd.DataFrame(tism_data_dictionary, index=[0])\n",
    "tism_df = tism_df.melt(var_name = \"User\", value_name=\"RAADS_score\")\n",
    "tism_df.head()"
   ]
  },
  {
   "cell_type": "markdown",
   "id": "d9fe1144-1646-40a1-bdef-18b63835e570",
   "metadata": {},
   "source": [
    "#### step 2: minimal cleaning \n",
    "not a lot of cleaning is necessary. "
   ]
  },
  {
   "cell_type": "code",
   "execution_count": 7,
   "id": "7442bff6-661e-4492-9103-4823bb8a3492",
   "metadata": {},
   "outputs": [
    {
     "data": {
      "text/html": [
       "<div>\n",
       "<style scoped>\n",
       "    .dataframe tbody tr th:only-of-type {\n",
       "        vertical-align: middle;\n",
       "    }\n",
       "\n",
       "    .dataframe tbody tr th {\n",
       "        vertical-align: top;\n",
       "    }\n",
       "\n",
       "    .dataframe thead th {\n",
       "        text-align: right;\n",
       "    }\n",
       "</style>\n",
       "<table border=\"1\" class=\"dataframe\">\n",
       "  <thead>\n",
       "    <tr style=\"text-align: right;\">\n",
       "      <th></th>\n",
       "      <th>User</th>\n",
       "      <th>RAADS_score</th>\n",
       "    </tr>\n",
       "  </thead>\n",
       "  <tbody>\n",
       "    <tr>\n",
       "      <th>61</th>\n",
       "      <td>dandelion</td>\n",
       "      <td>96.0</td>\n",
       "    </tr>\n",
       "    <tr>\n",
       "      <th>62</th>\n",
       "      <td>bambi</td>\n",
       "      <td>197.0</td>\n",
       "    </tr>\n",
       "    <tr>\n",
       "      <th>63</th>\n",
       "      <td>mina</td>\n",
       "      <td>194.0</td>\n",
       "    </tr>\n",
       "    <tr>\n",
       "      <th>64</th>\n",
       "      <td>Skoolie</td>\n",
       "      <td>45.0</td>\n",
       "    </tr>\n",
       "    <tr>\n",
       "      <th>65</th>\n",
       "      <td>Maryam</td>\n",
       "      <td>114.0</td>\n",
       "    </tr>\n",
       "  </tbody>\n",
       "</table>\n",
       "</div>"
      ],
      "text/plain": [
       "         User  RAADS_score\n",
       "61  dandelion         96.0\n",
       "62      bambi        197.0\n",
       "63       mina        194.0\n",
       "64    Skoolie         45.0\n",
       "65     Maryam        114.0"
      ]
     },
     "execution_count": 7,
     "metadata": {},
     "output_type": "execute_result"
    }
   ],
   "source": [
    "# resource: https://pandas.pydata.org/docs/reference/api/pandas.DataFrame.drop.html\n",
    "# removing spaces so values can be numeric\n",
    "tism_df[\"RAADS_score\"] = tism_df[\"RAADS_score\"].str.replace(\" \", \"\")\n",
    "tism_df[\"RAADS_score\"] = pd.to_numeric(tism_df[\"RAADS_score\"], errors=\"coerce\")\n",
    "\n",
    "# dropping 'average' row he had \n",
    "tism_df = tism_df.drop([66])\n",
    "tism_df.tail()"
   ]
  }
 ],
 "metadata": {
  "kernelspec": {
   "display_name": "Python 3 (ipykernel)",
   "language": "python",
   "name": "python3"
  },
  "language_info": {
   "codemirror_mode": {
    "name": "ipython",
    "version": 3
   },
   "file_extension": ".py",
   "mimetype": "text/x-python",
   "name": "python",
   "nbconvert_exporter": "python",
   "pygments_lexer": "ipython3",
   "version": "3.12.7"
  }
 },
 "nbformat": 4,
 "nbformat_minor": 5
}
